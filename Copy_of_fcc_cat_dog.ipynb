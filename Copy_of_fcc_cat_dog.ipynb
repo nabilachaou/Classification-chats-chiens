{
  "cells": [
    {
      "cell_type": "markdown",
      "metadata": {
        "id": "view-in-github",
        "colab_type": "text"
      },
      "source": [
        "<a href=\"https://colab.research.google.com/github/freeCodeCamp/boilerplate-cat-and-dog-image-classifier/blob/master/fcc_cat_dog.ipynb\" target=\"_parent\"><img src=\"https://colab.research.google.com/assets/colab-badge.svg\" alt=\"Open In Colab\"/></a>"
      ]
    },
    {
      "cell_type": "code",
      "execution_count": null,
      "metadata": {
        "id": "import-libraries"
      },
      "outputs": [],
      "source": [
        "# Import libraries\n",
        "import tensorflow as tf\n",
        "from tensorflow.keras.models import Sequential\n",
        "from tensorflow.keras.layers import Dense, Conv2D, Flatten, Dropout, MaxPooling2D\n",
        "from tensorflow.keras.preprocessing.image import ImageDataGenerator\n",
        "import os\n",
        "import numpy as np\n",
        "import matplotlib.pyplot as plt\n",
        "\n",
        "print(tf.__version__)"
      ]
    },
    {
      "cell_type": "code",
      "execution_count": null,
      "metadata": {
        "id": "get-data"
      },
      "outputs": [],
      "source": [
        "# Get data files\n",
        "!wget https://cdn.freecodecamp.org/project-data/cats-and-dogs/cats_and_dogs.zip\n",
        "!unzip cats_and_dogs.zip -d cats_and_dogs\n",
        "\n",
        "PATH = 'cats_and_dogs'\n",
        "\n",
        "train_dir = os.path.join(PATH, 'train')\n",
        "validation_dir = os.path.join(PATH, 'validation')\n",
        "test_dir = os.path.join(PATH, 'test')\n",
        "\n",
        "# Variables for pre-processing and training\n",
        "batch_size = 128\n",
        "epochs = 15\n",
        "IMG_HEIGHT = 150\n",
        "IMG_WIDTH = 150"
      ]
    },
    {
      "cell_type": "code",
      "execution_count": null,
      "metadata": {
        "id": "data-preprocessing"
      },
      "outputs": [],
      "source": [
        "# Data generators\n",
        "train_image_generator = ImageDataGenerator(rescale=1./255)\n",
        "validation_image_generator = ImageDataGenerator(rescale=1./255)\n",
        "test_image_generator = ImageDataGenerator(rescale=1./255)\n",
        "\n",
        "train_data_gen = train_image_generator.flow_from_directory(\n",
        "    batch_size=batch_size,\n",
        "    directory=train_dir,\n",
        "    target_size=(IMG_HEIGHT, IMG_WIDTH),\n",
        "    class_mode='binary'\n",
        ")\n",
        "\n",
        "val_data_gen = validation_image_generator.flow_from_directory(\n",
        "    batch_size=batch_size,\n",
        "    directory=validation_dir,\n",
        "    target_size=(IMG_HEIGHT, IMG_WIDTH),\n",
        "    class_mode='binary'\n",
        ")\n",
        "\n",
        "test_data_gen = test_image_generator.flow_from_directory(\n",
        "    directory=PATH,\n",
        "    classes=['test'],\n",
        "    target_size=(IMG_HEIGHT, IMG_WIDTH),\n",
        "    batch_size=batch_size,\n",
        "    class_mode=None,\n",
        "    shuffle=False\n",
        ")"
      ]
    },
    {
      "cell_type": "code",
      "execution_count": null,
      "metadata": {
        "id": "model-architecture"
      },
      "outputs": [],
      "source": [
        "# Model architecture\n",
        "model = Sequential([\n",
        "    Conv2D(32, (3, 3), activation='relu', input_shape=(IMG_HEIGHT, IMG_WIDTH, 3)),\n",
        "    MaxPooling2D((2, 2)),\n",
        "    \n",
        "    Conv2D(64, (3, 3), activation='relu'),\n",
        "    MaxPooling2D((2, 2)),\n",
        "    \n",
        "    Conv2D(128, (3, 3), activation='relu'),\n",
        "    MaxPooling2D((2, 2)),\n",
        "    \n",
        "    Flatten(),\n",
        "    Dropout(0.5),\n",
        "    Dense(512, activation='relu'),\n",
        "    Dense(1, activation='sigmoid')\n",
        "])\n",
        "\n",
        "model.compile(optimizer='adam',\n",
        "              loss='binary_crossentropy',\n",
        "              metrics=['accuracy'])\n",
        "\n",
        "model.summary()"
      ]
    },
    {
      "cell_type": "code",
      "execution_count": null,
      "metadata": {
        "id": "model-training"
      },
      "outputs": [],
      "source": [
        "# Model training\n",
        "history = model.fit(\n",
        "    train_data_gen,\n",
        "    steps_per_epoch=train_data_gen.samples // batch_size,\n",
        "    epochs=epochs,\n",
        "    validation_data=val_data_gen,\n",
        "    validation_steps=val_data_gen.samples // batch_size\n",
        ")"
      ]
    },
    {
      "cell_type": "code",
      "execution_count": null,
      "metadata": {
        "id": "visualization"
      },
      "outputs": [],
      "source": [
        "# Visualization function\n",
        "def plotImages(images_arr, probabilities=False):\n",
        "    fig, axes = plt.subplots(len(images_arr), 1, figsize=(5, len(images_arr) * 3))\n",
        "    if probabilities is False:\n",
        "        for img, ax in zip(images_arr, axes):\n",
        "            ax.imshow(img)\n",
        "            ax.axis('off')\n",
        "    else:\n",
        "        for img, probability, ax in zip(images_arr, probabilities, axes):\n",
        "            ax.imshow(img)\n",
        "            ax.axis('off')\n",
        "            if probability > 0.5:\n",
        "                ax.set_title(\"%.2f\" % (probability*100) + \"% dog\")\n",
        "            else:\n",
        "                ax.set_title(\"%.2f\" % ((1-probability)*100) + \"% cat\")\n",
        "    plt.show()"
      ]
    },
    {
      "cell_type": "code",
      "execution_count": null,
      "metadata": {
        "id": "predictions"
      },
      "outputs": [],
      "source": [
        "# Make predictions\n",
        "probabilities = model.predict(test_data_gen).flatten()\n",
        "\n",
        "# Get test images\n",
        "test_img_generator = test_image_generator.flow_from_directory(\n",
        "    directory=PATH,\n",
        "    classes=['test'],\n",
        "    target_size=(IMG_HEIGHT, IMG_WIDTH),\n",
        "    batch_size=50,\n",
        "    class_mode=None,\n",
        "    shuffle=False\n",
        ")\n",
        "sample_test_images = next(test_img_generator)\n",
        "\n",
        "plotImages(sample_test_images[:50], probabilities=probabilities)"
      ]
    },
    {
      "cell_type": "code",
      "execution_count": null,
      "metadata": {
        "id": "testing"
      },
      "outputs": [],
      "source": [
        "# Test function\n",
        "def test_predictions():\n",
        "    answers = [1, 0, 0, 1, 0, 0, 0, 0, 1, 1, 0,\n",
        "               1, 0, 1, 0, 1, 1, 0, 1, 1, 0, 0,\n",
        "               1, 1, 1, 1, 1, 0, 0, 0, 0, 0, 1,\n",
        "               1, 0, 1, 1, 1, 1, 0, 1, 0, 1, 1, \n",
        "               0, 0, 0, 0, 0, 0]\n",
        "    \n",
        "    correct = 0\n",
        "    \n",
        "    for probability, answer in zip(probabilities, answers):\n",
        "        if round(probability) == answer:\n",
        "            correct += 1\n",
        "    \n",
        "    percentage_identified = (correct / len(answers)) * 100\n",
        "    passed_challenge = percentage_identified >= 63\n",
        "    \n",
        "    print(f\"Your model correctly identified {round(percentage_identified, 2)}% of the images of cats and dogs.\")\n",
        "    \n",
        "    if passed_challenge:\n",
        "        print(\"You passed the challenge!\")\n",
        "    else:\n",
        "        print(\"You haven't passed yet. Your model should identify at least 63% of the images. Keep trying.\")\n",
        "\n",
        "test_predictions()"
      ]
    }
  ],
  "metadata": {
    "colab": {
      "provenance": [],
      "include_colab_link": true
    },
    "kernelspec": {
      "display_name": "Python 3",
      "name": "python3"
    },
    "language_info": {
      "name": "python",
      "version": "3.8.5",
      "mimetype": "text/x-python",
      "codemirror_mode": {
        "name": "ipython",
        "version": 3
      },
      "pygments_lexer": "ipython3",
      "nbconvert_exporter": "python",
      "file_extension": ".py"
    }
  },
  "nbformat": 4,
  "nbformat_minor": 0
}
